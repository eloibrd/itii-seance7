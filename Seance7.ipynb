{
  "nbformat": 4,
  "nbformat_minor": 0,
  "metadata": {
    "kernelspec": {
      "display_name": "Python 3",
      "language": "python",
      "name": "python3"
    },
    "language_info": {
      "codemirror_mode": {
        "name": "ipython",
        "version": 3
      },
      "file_extension": ".py",
      "mimetype": "text/x-python",
      "name": "python",
      "nbconvert_exporter": "python",
      "pygments_lexer": "ipython3",
      "version": "3.7.6"
    },
    "colab": {
      "name": "Seance7.ipynb",
      "provenance": []
    }
  },
  "cells": [
    {
      "cell_type": "markdown",
      "metadata": {
        "id": "KzEJGe6DG4zL"
      },
      "source": [
        "En utilisant numpy:"
      ]
    },
    {
      "cell_type": "markdown",
      "metadata": {
        "id": "V1Y7HlB5G4zM"
      },
      "source": [
        "Ex 1 :Addition\n",
        "Écrire un programme pour lire les éléments de deux matrices et ajoutez les deux matrices dans la troisième.\n",
        "\n",
        "La somme de deux matrices de taille (m,n), $(A_{ij}) et (B_{ij}) notée $A+B$  est à nouveau une matrice (C_{ij}) de taille (m,n), obtenue en additionnant les éléments correspondants: $c_{ij}=a_{ij}+b_{ij}$\n"
      ]
    },
    {
      "cell_type": "code",
      "metadata": {
        "id": "83r9fUrOG4zM",
        "outputId": "2cb70842-2f12-46ba-a37d-27bf00cead45",
        "colab": {
          "base_uri": "https://localhost:8080/"
        }
      },
      "source": [
        "import numpy as np\n",
        "\n",
        "\n",
        "def matrice_addition(A, B):\n",
        "  C = []\n",
        "  for i in range(len(A)):\n",
        "    C.append([])\n",
        "    for j in range(len(A[i])):\n",
        "      C[i].append(A[i][j]+B[i][j])\n",
        "  return C;\n",
        "\n",
        "A=[[1,2,3],[1,2,3]]\n",
        "B=[[3,2,1],[3,2,1]]\n",
        "\n",
        "matrice_addition(A,B)"
      ],
      "execution_count": 7,
      "outputs": [
        {
          "output_type": "execute_result",
          "data": {
            "text/plain": [
              "[[4, 4, 4], [4, 4, 4]]"
            ]
          },
          "metadata": {
            "tags": []
          },
          "execution_count": 7
        }
      ]
    },
    {
      "cell_type": "markdown",
      "metadata": {
        "id": "2lD_xtfpG4zM"
      },
      "source": [
        "Ex2 :Multiplication\n",
        "Écrire un programme pour lire les éléments de deux matrices, puis multipliez les deux matrices dans la troisième.\n",
        "\n",
        "Deux matrices ne peuvent être multipliées que si le nombre de colonnes de la première matrice est le même que le nombre de lignes de la seconde matrice.\n",
        "\n",
        "Si $ A=(a_{ij})$ est une matrice de taille (m,n), $ B=(b_{ij})$ et est une matrice de taille (n,p), alors leur produit, noté $AB=(c_{ij})$ est une matrice de taille (m,p) définie par :\n",
        "$$\\forall i,j : c_{ij}=\\sum_{k=i}^{n} a_{ik}*b_{kj}$$"
      ]
    },
    {
      "cell_type": "code",
      "metadata": {
        "id": "-8cEZcLZG4zM",
        "outputId": "b7d15ade-66ae-47e3-8d36-46a7c7ee49dd",
        "colab": {
          "base_uri": "https://localhost:8080/"
        }
      },
      "source": [
        "def matrice_multiplication(A, B):\n",
        "  C = []\n",
        "  if len(A[0]) != len(B):\n",
        "    return False\n",
        "  for i in range(len(A)):\n",
        "    ligne = []\n",
        "    for j in range(len(B[0])):\n",
        "      elem = 0\n",
        "      for k in range(len(A[0])):\n",
        "        elem = elem + A[i][k] * B[k][j]\n",
        "      ligne.append(elem)\n",
        "    C.append(ligne)\n",
        "  return C\n",
        "\n",
        "A=[[1,2,3],[1,2,3]]\n",
        "B=[[3,2,1],[3,2,1],[3,2,1]]\n",
        "\n",
        "matrice_multiplication(A,B)"
      ],
      "execution_count": 10,
      "outputs": [
        {
          "output_type": "execute_result",
          "data": {
            "text/plain": [
              "[[18, 12, 6], [18, 12, 6]]"
            ]
          },
          "metadata": {
            "tags": []
          },
          "execution_count": 10
        }
      ]
    },
    {
      "cell_type": "markdown",
      "metadata": {
        "id": "JCpPcCU7G4zM"
      },
      "source": [
        "Ex 3: Matrice de Markov\n",
        "\n",
        "Une matrice de Markov est une matrice carrée dont chaque élément est un réel compris entre 0 et 1 et dont la somme des éléments de chaque ligne vaut 1. Cela correspond, en probabilité, à la matrice de transition d'une chaîne de Markov finie.\n",
        "\n",
        "Une matrice est dite bistochastique (ou doublement stochastique) si la somme des éléments de chaque ligne et de chaque colonne vaut 1.\n",
        "\n",
        "1. Ecrire une fonction eststochastique(P) qui permet de vérifier est ce que la matrice P est stochastique ou non\n",
        "2. Ecrire une fonction estbistochastique(P) qui permet de vérifier est ce que la matrice P est bistochastique ou non\n",
        "3. Ecrire une fonction vecteurstable(G, h) qui permet de vérifier est ce que h est un vecteur stable de G ou non\n",
        "\n"
      ]
    },
    {
      "cell_type": "code",
      "metadata": {
        "id": "wayOQxJhG4zM",
        "outputId": "f496bd7f-b269-4932-e55c-d02bfde5194f",
        "colab": {
          "base_uri": "https://localhost:8080/"
        }
      },
      "source": [
        "def eststochastique(P):\n",
        "  for i in range(len(P)):\n",
        "    ligne = 0\n",
        "    for j in range(len(P[i])):\n",
        "      ligne += P[i][j]\n",
        "    if(ligne!=1):\n",
        "      return False\n",
        "  return True\n",
        "\n",
        "def estbistochastique(P):\n",
        "  if not eststochastique(P):\n",
        "    return False\n",
        "  for i in range(len(P[0])):\n",
        "    colonne = 0\n",
        "    for j in range(len(P)):\n",
        "      colonne += P[i][j]\n",
        "    if(colonne!=1):\n",
        "      return False\n",
        "  return True\n",
        "  \n",
        "\n",
        "A=[[0.4,0.6,0],[0.3,0.2,0.5],[0.3,0.2,0.5]]\n",
        "B=[[0.4,0.6,0],[0.3,0.2,0.5]]\n",
        "    \n",
        "eststochastique(A)\n",
        "\n"
      ],
      "execution_count": 18,
      "outputs": [
        {
          "output_type": "execute_result",
          "data": {
            "text/plain": [
              "True"
            ]
          },
          "metadata": {
            "tags": []
          },
          "execution_count": 18
        }
      ]
    },
    {
      "cell_type": "markdown",
      "metadata": {
        "id": "mJZSspIiG4zM"
      },
      "source": [
        "Ex 4: Transposer\n",
        "\n",
        "Programmer une fonction qui, étant donné une matrice à deux dimensions A, retourne lamatrice B dont la première colonne est la première ligne de A, la seconde la deuxième ligne de A, etc. B s’appelle la transposée de A."
      ]
    },
    {
      "cell_type": "code",
      "metadata": {
        "id": "ZBTeGF7MG4zM",
        "outputId": "8c26cb1e-5d11-48e8-83c8-0a8811d63d31",
        "colab": {
          "base_uri": "https://localhost:8080/"
        }
      },
      "source": [
        "A = np.array([ [3, 1, 5], [9, 8, -1], [18, 12, 2] ])\n",
        " \n",
        "C = A.transpose()\n",
        "\n",
        "print(C)"
      ],
      "execution_count": 20,
      "outputs": [
        {
          "output_type": "stream",
          "text": [
            "[[ 3  9 18]\n",
            " [ 1  8 12]\n",
            " [ 5 -1  2]]\n"
          ],
          "name": "stdout"
        }
      ]
    },
    {
      "cell_type": "markdown",
      "metadata": {
        "id": "eUzvSyB5G4zM"
      },
      "source": [
        "Ex 5: Permutations\n",
        "1. $M$ désignant une matrice quelconque d’entiers à $l_i$ lignes et $co$ colonnes, $n$ un entier quelconque, programmer une fonction qui retourne la matrice $Sortie$ qui empile verticalement les $co+1$ matrices obtenues en adjoignant à $M$ une colonne $A$ à $li$ lignes dont tousles éléments sont égaux à $n$, $A$ étant placée d’abord devant $M$, puis entre la première et deuxième colonne de $M^a$,etc, jusqu’à ce que $A$ devienne sa dernière colonne. La matriceobtenue  aura $co+1$ colonnes et $(n+1)$ $li$ lignes\n",
        "\n",
        "2. Écrire toutes les permutations de(1, ..., n)"
      ]
    }
  ]
}